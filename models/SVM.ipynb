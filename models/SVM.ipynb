{
 "cells": [
  {
   "cell_type": "code",
   "execution_count": 1,
   "metadata": {},
   "outputs": [],
   "source": [
    "import numpy as np\n",
    "import pandas as pd\n",
    "import matplotlib.pyplot as plt\n",
    "from sklearn import svm\n",
    "from sklearn.metrics import accuracy_score\n",
    "from sklearn.model_selection import train_test_split\n",
    "from sklearn.preprocessing import StandardScaler\n",
    "from sklearn.metrics import confusion_matrix\n",
    "from sklearn.metrics import classification_report\n",
    "from sklearn.model_selection import GridSearchCV"
   ]
  },
  {
   "cell_type": "code",
   "execution_count": 2,
   "metadata": {},
   "outputs": [],
   "source": [
    "df = pd.read_excel('hypertension_clean1.xlsx')\n",
    "# 分离特征与标签\n",
    "X = df.iloc[:, :-1]\n",
    "y = df.iloc[:, -1]"
   ]
  },
  {
   "cell_type": "code",
   "execution_count": 3,
   "metadata": {},
   "outputs": [],
   "source": [
    "# 分离训练集与测试集\n",
    "X_train, X_test, y_train, y_test = train_test_split(X, y, test_size=0.2)"
   ]
  },
  {
   "cell_type": "code",
   "execution_count": 4,
   "metadata": {},
   "outputs": [],
   "source": [
    "# 数据标准化\n",
    "scaler = StandardScaler()\n",
    "X_train = scaler.fit_transform(X_train)\n",
    "X_test = scaler.fit_transform(X_test)"
   ]
  },
  {
   "cell_type": "markdown",
   "metadata": {},
   "source": [
    "# 定义SVM模型"
   ]
  },
  {
   "cell_type": "code",
   "execution_count": 4,
   "metadata": {},
   "outputs": [
    {
     "name": "stdout",
     "output_type": "stream",
     "text": [
      "最优参数： {'C': 1, 'gamma': 0.1, 'kernel': 'rbf'}\n",
      "最优模型： SVC(C=1, gamma=0.1)\n",
      "最优得分： 0.8142262386474132\n",
      "准确率： 0.8364893297264803\n"
     ]
    }
   ],
   "source": [
    "# 网格搜索\n",
    "parameters = {'kernel': ['linear', 'rbf'], \n",
    "              'C': [0.1, 1, 10],\n",
    "              'gamma': [0.1, 0.01],\n",
    "              }\n",
    "svm_model = GridSearchCV(svm.SVC(), parameters, cv=5, n_jobs=-1)\n",
    "svm_model.fit(X_train, y_train)\n",
    "print('最优参数：', svm_model.best_params_)\n",
    "print('最优模型：', svm_model.best_estimator_)\n",
    "print('最优得分：', svm_model.best_score_)\n",
    "y_pred = svm_model.predict(X_test)\n",
    "print('准确率：', accuracy_score(y_test, y_pred))"
   ]
  },
  {
   "cell_type": "code",
   "execution_count": 4,
   "metadata": {},
   "outputs": [
    {
     "name": "stdout",
     "output_type": "stream",
     "text": [
      "最优参数： {'C': 1, 'gamma': 0.1, 'kernel': 'rbf'}\n",
      "最优模型： SVC(C=1, gamma=0.1)\n",
      "最优得分： 0.8083263069660827\n",
      "准确率： 0.8432521791403667\n"
     ]
    }
   ],
   "source": [
    "# 网格搜索\n",
    "parameters = {'kernel': ['linear', 'rbf', 'sigmoid'], \n",
    "              'C': [0.1, 1, 10],\n",
    "              'gamma': [0.1, 0.01],\n",
    "              }\n",
    "svm_model = GridSearchCV(svm.SVC(), parameters, cv=5, n_jobs=-1)\n",
    "svm_model.fit(X_train, y_train)\n",
    "print('最优参数：', svm_model.best_params_)\n",
    "print('最优模型：', svm_model.best_estimator_)\n",
    "print('最优得分：', svm_model.best_score_)\n",
    "y_pred = svm_model.predict(X_test)\n",
    "print('准确率：', accuracy_score(y_test, y_pred))"
   ]
  },
  {
   "cell_type": "code",
   "execution_count": 5,
   "metadata": {},
   "outputs": [
    {
     "name": "stdout",
     "output_type": "stream",
     "text": [
      "最优参数： {'C': 10, 'degree': 4, 'kernel': 'poly'}\n",
      "最优模型： SVC(C=10, degree=4, kernel='poly')\n",
      "最优得分： 0.7304697383310943\n",
      "准确率： 0.7382025849113315\n"
     ]
    }
   ],
   "source": [
    "parameters = {'kernel': ['poly'], \n",
    "              'C': [0.1, 1, 10],\n",
    "              'degree': [2, 3, 4]\n",
    "              }\n",
    "svm_model = GridSearchCV(svm.SVC(), parameters, cv=5, n_jobs=-1)\n",
    "svm_model.fit(X_train, y_train)\n",
    "print('最优参数：', svm_model.best_params_)\n",
    "print('最优模型：', svm_model.best_estimator_)\n",
    "print('最优得分：', svm_model.best_score_)\n",
    "y_pred = svm_model.predict(X_test)\n",
    "print('准确率：', accuracy_score(y_test, y_pred))"
   ]
  }
 ],
 "metadata": {
  "kernelspec": {
   "display_name": "base",
   "language": "python",
   "name": "python3"
  },
  "language_info": {
   "codemirror_mode": {
    "name": "ipython",
    "version": 3
   },
   "file_extension": ".py",
   "mimetype": "text/x-python",
   "name": "python",
   "nbconvert_exporter": "python",
   "pygments_lexer": "ipython3",
   "version": "3.11.4"
  }
 },
 "nbformat": 4,
 "nbformat_minor": 2
}
